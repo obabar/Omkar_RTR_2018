{
  "nbformat": 4,
  "nbformat_minor": 0,
  "metadata": {
    "colab": {
      "name": "Untitled0.ipynb",
      "version": "0.3.2",
      "provenance": [],
      "include_colab_link": true
    },
    "kernelspec": {
      "name": "python2",
      "display_name": "Python 2"
    }
  },
  "cells": [
    {
      "cell_type": "markdown",
      "metadata": {
        "id": "view-in-github",
        "colab_type": "text"
      },
      "source": [
        "<a href=\"https://colab.research.google.com/github/obabar/Omkar_RTR_2018/blob/AI_ML_DS/Linear_Regression.ipynb\" target=\"_parent\"><img src=\"https://colab.research.google.com/assets/colab-badge.svg\" alt=\"Open In Colab\"/></a>"
      ]
    },
    {
      "metadata": {
        "id": "8niFYHC52rek",
        "colab_type": "code",
        "colab": {}
      },
      "cell_type": "code",
      "source": [
        "# Loading Library\n",
        "import pandas as pd\n",
        "import seaborn as sns\n",
        "#import matplotlib.pyplot as plt"
      ],
      "execution_count": 0,
      "outputs": []
    },
    {
      "metadata": {
        "id": "seMQOdea3NYv",
        "colab_type": "code",
        "colab": {}
      },
      "cell_type": "code",
      "source": [
        "data = pd.read_csv(\"https://raw.githubusercontent.com/equester/TataTelecomAI/master/Sample%20Data/asr_data_tt.csv\")"
      ],
      "execution_count": 0,
      "outputs": []
    },
    {
      "metadata": {
        "id": "K5tKqIWqZxoL",
        "colab_type": "code",
        "colab": {
          "base_uri": "https://localhost:8080/",
          "height": 85
        },
        "outputId": "c8b40ba6-027b-4dbc-83b4-01923231fae8"
      },
      "cell_type": "code",
      "source": [
        "data.columns"
      ],
      "execution_count": 34,
      "outputs": [
        {
          "output_type": "execute_result",
          "data": {
            "text/plain": [
              "Index([u'Incoming Attempts', u'Normal Term Seizures', u'Answered Calls',\n",
              "       u'Normal Not Answer Calls', u'Outgoing Seizures', u'FEV Seizures',\n",
              "       u'Network Conversation Minutes', u'NER', u'ACD'],\n",
              "      dtype='object')"
            ]
          },
          "metadata": {
            "tags": []
          },
          "execution_count": 34
        }
      ]
    },
    {
      "metadata": {
        "id": "cqVR9laA32Gv",
        "colab_type": "code",
        "colab": {
          "base_uri": "https://localhost:8080/",
          "height": 430
        },
        "outputId": "aa739da8-3b6b-4038-b5df-8b421ce5a2d6"
      },
      "cell_type": "code",
      "source": [
        "data.head(10)"
      ],
      "execution_count": 35,
      "outputs": [
        {
          "output_type": "execute_result",
          "data": {
            "text/html": [
              "<div>\n",
              "<style scoped>\n",
              "    .dataframe tbody tr th:only-of-type {\n",
              "        vertical-align: middle;\n",
              "    }\n",
              "\n",
              "    .dataframe tbody tr th {\n",
              "        vertical-align: top;\n",
              "    }\n",
              "\n",
              "    .dataframe thead th {\n",
              "        text-align: right;\n",
              "    }\n",
              "</style>\n",
              "<table border=\"1\" class=\"dataframe\">\n",
              "  <thead>\n",
              "    <tr style=\"text-align: right;\">\n",
              "      <th></th>\n",
              "      <th>Incoming Attempts</th>\n",
              "      <th>Normal Term Seizures</th>\n",
              "      <th>Answered Calls</th>\n",
              "      <th>Normal Not Answer Calls</th>\n",
              "      <th>Outgoing Seizures</th>\n",
              "      <th>FEV Seizures</th>\n",
              "      <th>Network Conversation Minutes</th>\n",
              "      <th>NER</th>\n",
              "      <th>ACD</th>\n",
              "    </tr>\n",
              "  </thead>\n",
              "  <tbody>\n",
              "    <tr>\n",
              "      <th>0</th>\n",
              "      <td>171</td>\n",
              "      <td>51</td>\n",
              "      <td>19</td>\n",
              "      <td>32</td>\n",
              "      <td>52</td>\n",
              "      <td>1</td>\n",
              "      <td>30.833333</td>\n",
              "      <td>100.000000</td>\n",
              "      <td>1.622807</td>\n",
              "    </tr>\n",
              "    <tr>\n",
              "      <th>1</th>\n",
              "      <td>1</td>\n",
              "      <td>44</td>\n",
              "      <td>31</td>\n",
              "      <td>13</td>\n",
              "      <td>44</td>\n",
              "      <td>0</td>\n",
              "      <td>0.033333</td>\n",
              "      <td>100.000000</td>\n",
              "      <td>0.001075</td>\n",
              "    </tr>\n",
              "    <tr>\n",
              "      <th>2</th>\n",
              "      <td>456601</td>\n",
              "      <td>440591</td>\n",
              "      <td>97563</td>\n",
              "      <td>343028</td>\n",
              "      <td>453573</td>\n",
              "      <td>3648</td>\n",
              "      <td>584245.166700</td>\n",
              "      <td>97.925432</td>\n",
              "      <td>5.988389</td>\n",
              "    </tr>\n",
              "    <tr>\n",
              "      <th>3</th>\n",
              "      <td>41</td>\n",
              "      <td>41</td>\n",
              "      <td>40</td>\n",
              "      <td>1</td>\n",
              "      <td>41</td>\n",
              "      <td>0</td>\n",
              "      <td>14.533333</td>\n",
              "      <td>100.000000</td>\n",
              "      <td>0.363333</td>\n",
              "    </tr>\n",
              "    <tr>\n",
              "      <th>4</th>\n",
              "      <td>239</td>\n",
              "      <td>49</td>\n",
              "      <td>11</td>\n",
              "      <td>38</td>\n",
              "      <td>71</td>\n",
              "      <td>14</td>\n",
              "      <td>36.666667</td>\n",
              "      <td>85.964912</td>\n",
              "      <td>3.333333</td>\n",
              "    </tr>\n",
              "    <tr>\n",
              "      <th>5</th>\n",
              "      <td>8019</td>\n",
              "      <td>459</td>\n",
              "      <td>188</td>\n",
              "      <td>271</td>\n",
              "      <td>643</td>\n",
              "      <td>103</td>\n",
              "      <td>1435.066667</td>\n",
              "      <td>85.000000</td>\n",
              "      <td>7.633333</td>\n",
              "    </tr>\n",
              "    <tr>\n",
              "      <th>6</th>\n",
              "      <td>10</td>\n",
              "      <td>8</td>\n",
              "      <td>8</td>\n",
              "      <td>0</td>\n",
              "      <td>8</td>\n",
              "      <td>0</td>\n",
              "      <td>13.133333</td>\n",
              "      <td>100.000000</td>\n",
              "      <td>1.641667</td>\n",
              "    </tr>\n",
              "    <tr>\n",
              "      <th>7</th>\n",
              "      <td>995717</td>\n",
              "      <td>810191</td>\n",
              "      <td>219605</td>\n",
              "      <td>590586</td>\n",
              "      <td>826539</td>\n",
              "      <td>14677</td>\n",
              "      <td>305785.550000</td>\n",
              "      <td>99.794177</td>\n",
              "      <td>1.392434</td>\n",
              "    </tr>\n",
              "    <tr>\n",
              "      <th>8</th>\n",
              "      <td>697441</td>\n",
              "      <td>495671</td>\n",
              "      <td>132245</td>\n",
              "      <td>363426</td>\n",
              "      <td>599515</td>\n",
              "      <td>18633</td>\n",
              "      <td>424442.050000</td>\n",
              "      <td>85.330756</td>\n",
              "      <td>3.209513</td>\n",
              "    </tr>\n",
              "    <tr>\n",
              "      <th>9</th>\n",
              "      <td>1826</td>\n",
              "      <td>8250</td>\n",
              "      <td>5360</td>\n",
              "      <td>2890</td>\n",
              "      <td>8373</td>\n",
              "      <td>65</td>\n",
              "      <td>102.300000</td>\n",
              "      <td>99.301878</td>\n",
              "      <td>0.019086</td>\n",
              "    </tr>\n",
              "  </tbody>\n",
              "</table>\n",
              "</div>"
            ],
            "text/plain": [
              "   Incoming Attempts  Normal Term Seizures  Answered Calls  \\\n",
              "0                171                    51              19   \n",
              "1                  1                    44              31   \n",
              "2             456601                440591           97563   \n",
              "3                 41                    41              40   \n",
              "4                239                    49              11   \n",
              "5               8019                   459             188   \n",
              "6                 10                     8               8   \n",
              "7             995717                810191          219605   \n",
              "8             697441                495671          132245   \n",
              "9               1826                  8250            5360   \n",
              "\n",
              "   Normal Not Answer Calls  Outgoing Seizures  FEV Seizures  \\\n",
              "0                       32                 52             1   \n",
              "1                       13                 44             0   \n",
              "2                   343028             453573          3648   \n",
              "3                        1                 41             0   \n",
              "4                       38                 71            14   \n",
              "5                      271                643           103   \n",
              "6                        0                  8             0   \n",
              "7                   590586             826539         14677   \n",
              "8                   363426             599515         18633   \n",
              "9                     2890               8373            65   \n",
              "\n",
              "   Network Conversation Minutes         NER       ACD  \n",
              "0                     30.833333  100.000000  1.622807  \n",
              "1                      0.033333  100.000000  0.001075  \n",
              "2                 584245.166700   97.925432  5.988389  \n",
              "3                     14.533333  100.000000  0.363333  \n",
              "4                     36.666667   85.964912  3.333333  \n",
              "5                   1435.066667   85.000000  7.633333  \n",
              "6                     13.133333  100.000000  1.641667  \n",
              "7                 305785.550000   99.794177  1.392434  \n",
              "8                 424442.050000   85.330756  3.209513  \n",
              "9                    102.300000   99.301878  0.019086  "
            ]
          },
          "metadata": {
            "tags": []
          },
          "execution_count": 35
        }
      ]
    },
    {
      "metadata": {
        "id": "YiYGhRrzZ-WE",
        "colab_type": "code",
        "colab": {
          "base_uri": "https://localhost:8080/",
          "height": 34
        },
        "outputId": "4e355433-687d-4a9b-dd85-32214cb70bf7"
      },
      "cell_type": "code",
      "source": [
        "data.shape"
      ],
      "execution_count": 36,
      "outputs": [
        {
          "output_type": "execute_result",
          "data": {
            "text/plain": [
              "(1678, 9)"
            ]
          },
          "metadata": {
            "tags": []
          },
          "execution_count": 36
        }
      ]
    },
    {
      "metadata": {
        "id": "zlwhO3Ji52Im",
        "colab_type": "code",
        "colab": {
          "base_uri": "https://localhost:8080/",
          "height": 364
        },
        "outputId": "d71e4f0c-2c93-4bcd-e827-be3e83aefdfb"
      },
      "cell_type": "code",
      "source": [
        "data['ACD'].hist()"
      ],
      "execution_count": 37,
      "outputs": [
        {
          "output_type": "execute_result",
          "data": {
            "text/plain": [
              "<matplotlib.axes._subplots.AxesSubplot at 0x7fb345f4bd90>"
            ]
          },
          "metadata": {
            "tags": []
          },
          "execution_count": 37
        },
        {
          "output_type": "display_data",
          "data": {
            "image/png": "[encoded data removed]",
            "text/plain": [
              "<Figure size 576x396 with 1 Axes>"
            ]
          },
          "metadata": {
            "tags": []
          }
        }
      ]
    },
    {
      "metadata": {
        "id": "Z6KvlRGj6WZu",
        "colab_type": "code",
        "colab": {
          "base_uri": "https://localhost:8080/",
          "height": 778
        },
        "outputId": "7162d066-ac78-4fbc-b10d-5424082e8e6d"
      },
      "cell_type": "code",
      "source": [
        "sns.jointplot(\"ASR\", \"Network Conversation Minutes\", data=data, kind='reg')"
      ],
      "execution_count": 38,
      "outputs": [
        {
          "output_type": "error",
          "ename": "TypeError",
          "evalue": "ignored",
          "traceback": [
            "\u001b[0;31m\u001b[0m",
            "\u001b[0;31mTypeError\u001b[0mTraceback (most recent call last)",
            "\u001b[0;32m<ipython-input-38-4b0a5e5f5c96>\u001b[0m in \u001b[0;36m<module>\u001b[0;34m()\u001b[0m\n\u001b[0;32m----> 1\u001b[0;31m \u001b[0msns\u001b[0m\u001b[0;34m.\u001b[0m\u001b[0mjointplot\u001b[0m\u001b[0;34m(\u001b[0m\u001b[0;34m\"ASR\"\u001b[0m\u001b[0;34m,\u001b[0m \u001b[0;34m\"Network Conversation Minutes\"\u001b[0m\u001b[0;34m,\u001b[0m \u001b[0mdata\u001b[0m\u001b[0;34m=\u001b[0m\u001b[0mdata\u001b[0m\u001b[0;34m,\u001b[0m \u001b[0mkind\u001b[0m\u001b[0;34m=\u001b[0m\u001b[0;34m'reg'\u001b[0m\u001b[0;34m)\u001b[0m\u001b[0;34m\u001b[0m\u001b[0m\n\u001b[0m",
            "\u001b[0;32m/usr/local/lib/python2.7/dist-packages/seaborn/distributions.pyc\u001b[0m in \u001b[0;36mjointplot\u001b[0;34m(x, y, data, kind, stat_func, color, size, ratio, space, dropna, xlim, ylim, joint_kws, marginal_kws, annot_kws, **kwargs)\u001b[0m\n\u001b[1;32m    796\u001b[0m     grid = JointGrid(x, y, data, dropna=dropna,\n\u001b[1;32m    797\u001b[0m                      \u001b[0msize\u001b[0m\u001b[0;34m=\u001b[0m\u001b[0msize\u001b[0m\u001b[0;34m,\u001b[0m \u001b[0mratio\u001b[0m\u001b[0;34m=\u001b[0m\u001b[0mratio\u001b[0m\u001b[0;34m,\u001b[0m \u001b[0mspace\u001b[0m\u001b[0;34m=\u001b[0m\u001b[0mspace\u001b[0m\u001b[0;34m,\u001b[0m\u001b[0;34m\u001b[0m\u001b[0m\n\u001b[0;32m--> 798\u001b[0;31m                      xlim=xlim, ylim=ylim)\n\u001b[0m\u001b[1;32m    799\u001b[0m \u001b[0;34m\u001b[0m\u001b[0m\n\u001b[1;32m    800\u001b[0m     \u001b[0;31m# Plot the data using the grid\u001b[0m\u001b[0;34m\u001b[0m\u001b[0;34m\u001b[0m\u001b[0m\n",
            "\u001b[0;32m/usr/local/lib/python2.7/dist-packages/seaborn/axisgrid.pyc\u001b[0m in \u001b[0;36m__init__\u001b[0;34m(self, x, y, data, size, ratio, space, dropna, xlim, ylim)\u001b[0m\n\u001b[1;32m   1658\u001b[0m         \u001b[0;32mif\u001b[0m \u001b[0mdropna\u001b[0m\u001b[0;34m:\u001b[0m\u001b[0;34m\u001b[0m\u001b[0m\n\u001b[1;32m   1659\u001b[0m             \u001b[0mnot_na\u001b[0m \u001b[0;34m=\u001b[0m \u001b[0mpd\u001b[0m\u001b[0;34m.\u001b[0m\u001b[0mnotnull\u001b[0m\u001b[0;34m(\u001b[0m\u001b[0mx\u001b[0m\u001b[0;34m)\u001b[0m \u001b[0;34m&\u001b[0m \u001b[0mpd\u001b[0m\u001b[0;34m.\u001b[0m\u001b[0mnotnull\u001b[0m\u001b[0;34m(\u001b[0m\u001b[0my\u001b[0m\u001b[0;34m)\u001b[0m\u001b[0;34m\u001b[0m\u001b[0m\n\u001b[0;32m-> 1660\u001b[0;31m             \u001b[0mx\u001b[0m \u001b[0;34m=\u001b[0m \u001b[0mx\u001b[0m\u001b[0;34m[\u001b[0m\u001b[0mnot_na\u001b[0m\u001b[0;34m]\u001b[0m\u001b[0;34m\u001b[0m\u001b[0m\n\u001b[0m\u001b[1;32m   1661\u001b[0m             \u001b[0my\u001b[0m \u001b[0;34m=\u001b[0m \u001b[0my\u001b[0m\u001b[0;34m[\u001b[0m\u001b[0mnot_na\u001b[0m\u001b[0;34m]\u001b[0m\u001b[0;34m\u001b[0m\u001b[0m\n\u001b[1;32m   1662\u001b[0m \u001b[0;34m\u001b[0m\u001b[0m\n",
            "\u001b[0;31mTypeError\u001b[0m: string indices must be integers, not Series"
          ]
        },
        {
          "output_type": "display_data",
          "data": {
            "image/png": "[encoded data removed]",
            "text/plain": [
              "<Figure size 432x432 with 3 Axes>"
            ]
          },
          "metadata": {
            "tags": []
          }
        }
      ]
    },
    {
      "metadata": {
        "id": "7Cl1MTx7apxi",
        "colab_type": "code",
        "colab": {
          "base_uri": "https://localhost:8080/",
          "height": 71
        },
        "outputId": "a13ec0c8-db90-4644-cffe-67fa8af11171"
      },
      "cell_type": "code",
      "source": [
        "from sklearn.preprocessing import StandardScaler\n",
        "scaler = StandardScaler().fit(data)\n",
        "data1 = scaler.transform(data)"
      ],
      "execution_count": 39,
      "outputs": [
        {
          "output_type": "stream",
          "text": [
            "/usr/local/lib/python2.7/dist-packages/ipykernel_launcher.py:3: DataConversionWarning: Data with input dtype int64, float64 were all converted to float64 by StandardScaler.\n",
            "  This is separate from the ipykernel package so we can avoid doing imports until\n"
          ],
          "name": "stderr"
        }
      ]
    },
    {
      "metadata": {
        "id": "c11dShaibA1H",
        "colab_type": "code",
        "colab": {
          "base_uri": "https://localhost:8080/",
          "height": 224
        },
        "outputId": "81b2886a-9b15-4071-9890-2b2bdc9358b6"
      },
      "cell_type": "code",
      "source": [
        "data = pd.DataFrame(data1)\n",
        "data.head()"
      ],
      "execution_count": 40,
      "outputs": [
        {
          "output_type": "execute_result",
          "data": {
            "text/html": [
              "<div>\n",
              "<style scoped>\n",
              "    .dataframe tbody tr th:only-of-type {\n",
              "        vertical-align: middle;\n",
              "    }\n",
              "\n",
              "    .dataframe tbody tr th {\n",
              "        vertical-align: top;\n",
              "    }\n",
              "\n",
              "    .dataframe thead th {\n",
              "        text-align: right;\n",
              "    }\n",
              "</style>\n",
              "<table border=\"1\" class=\"dataframe\">\n",
              "  <thead>\n",
              "    <tr style=\"text-align: right;\">\n",
              "      <th></th>\n",
              "      <th>0</th>\n",
              "      <th>1</th>\n",
              "      <th>2</th>\n",
              "      <th>3</th>\n",
              "      <th>4</th>\n",
              "      <th>5</th>\n",
              "      <th>6</th>\n",
              "      <th>7</th>\n",
              "      <th>8</th>\n",
              "    </tr>\n",
              "  </thead>\n",
              "  <tbody>\n",
              "    <tr>\n",
              "      <th>0</th>\n",
              "      <td>-0.097274</td>\n",
              "      <td>-0.104956</td>\n",
              "      <td>-0.110750</td>\n",
              "      <td>-0.096416</td>\n",
              "      <td>-0.089276</td>\n",
              "      <td>-0.104202</td>\n",
              "      <td>-0.094213</td>\n",
              "      <td>0.538661</td>\n",
              "      <td>-0.260589</td>\n",
              "    </tr>\n",
              "    <tr>\n",
              "      <th>1</th>\n",
              "      <td>-0.097284</td>\n",
              "      <td>-0.104957</td>\n",
              "      <td>-0.110748</td>\n",
              "      <td>-0.096419</td>\n",
              "      <td>-0.089276</td>\n",
              "      <td>-0.104203</td>\n",
              "      <td>-0.094214</td>\n",
              "      <td>0.538661</td>\n",
              "      <td>-0.626521</td>\n",
              "    </tr>\n",
              "    <tr>\n",
              "      <th>2</th>\n",
              "      <td>-0.069447</td>\n",
              "      <td>-0.063757</td>\n",
              "      <td>-0.089269</td>\n",
              "      <td>-0.043025</td>\n",
              "      <td>-0.061540</td>\n",
              "      <td>-0.100785</td>\n",
              "      <td>-0.061043</td>\n",
              "      <td>0.375909</td>\n",
              "      <td>0.724474</td>\n",
              "    </tr>\n",
              "    <tr>\n",
              "      <th>3</th>\n",
              "      <td>-0.097282</td>\n",
              "      <td>-0.104957</td>\n",
              "      <td>-0.110746</td>\n",
              "      <td>-0.096421</td>\n",
              "      <td>-0.089276</td>\n",
              "      <td>-0.104203</td>\n",
              "      <td>-0.094214</td>\n",
              "      <td>0.538661</td>\n",
              "      <td>-0.544780</td>\n",
              "    </tr>\n",
              "    <tr>\n",
              "      <th>4</th>\n",
              "      <td>-0.097270</td>\n",
              "      <td>-0.104956</td>\n",
              "      <td>-0.110752</td>\n",
              "      <td>-0.096415</td>\n",
              "      <td>-0.089274</td>\n",
              "      <td>-0.104190</td>\n",
              "      <td>-0.094212</td>\n",
              "      <td>-0.562401</td>\n",
              "      <td>0.125380</td>\n",
              "    </tr>\n",
              "  </tbody>\n",
              "</table>\n",
              "</div>"
            ],
            "text/plain": [
              "          0         1         2         3         4         5         6  \\\n",
              "0 -0.097274 -0.104956 -0.110750 -0.096416 -0.089276 -0.104202 -0.094213   \n",
              "1 -0.097284 -0.104957 -0.110748 -0.096419 -0.089276 -0.104203 -0.094214   \n",
              "2 -0.069447 -0.063757 -0.089269 -0.043025 -0.061540 -0.100785 -0.061043   \n",
              "3 -0.097282 -0.104957 -0.110746 -0.096421 -0.089276 -0.104203 -0.094214   \n",
              "4 -0.097270 -0.104956 -0.110752 -0.096415 -0.089274 -0.104190 -0.094212   \n",
              "\n",
              "          7         8  \n",
              "0  0.538661 -0.260589  \n",
              "1  0.538661 -0.626521  \n",
              "2  0.375909  0.724474  \n",
              "3  0.538661 -0.544780  \n",
              "4 -0.562401  0.125380  "
            ]
          },
          "metadata": {
            "tags": []
          },
          "execution_count": 40
        }
      ]
    },
    {
      "metadata": {
        "id": "lJTrnFghbTJi",
        "colab_type": "code",
        "colab": {}
      },
      "cell_type": "code",
      "source": [
        "data.columns = ['Incoming Attempts',\t'Normal Term Seizures'\t,'Answered Calls','Normal Not Answer Calls',\t'Outgoing Seizures',\t'FEV Seizures',\t'Network Conversation Minutes',\t'NER',\t'ACD']"
      ],
      "execution_count": 0,
      "outputs": []
    },
    {
      "metadata": {
        "id": "5YnSCJxPbVtb",
        "colab_type": "code",
        "colab": {
          "base_uri": "https://localhost:8080/",
          "height": 275
        },
        "outputId": "76923805-e00f-49a6-c78b-e5450f469d41"
      },
      "cell_type": "code",
      "source": [
        "data.head()"
      ],
      "execution_count": 42,
      "outputs": [
        {
          "output_type": "execute_result",
          "data": {
            "text/html": [
              "<div>\n",
              "<style scoped>\n",
              "    .dataframe tbody tr th:only-of-type {\n",
              "        vertical-align: middle;\n",
              "    }\n",
              "\n",
              "    .dataframe tbody tr th {\n",
              "        vertical-align: top;\n",
              "    }\n",
              "\n",
              "    .dataframe thead th {\n",
              "        text-align: right;\n",
              "    }\n",
              "</style>\n",
              "<table border=\"1\" class=\"dataframe\">\n",
              "  <thead>\n",
              "    <tr style=\"text-align: right;\">\n",
              "      <th></th>\n",
              "      <th>Incoming Attempts</th>\n",
              "      <th>Normal Term Seizures</th>\n",
              "      <th>Answered Calls</th>\n",
              "      <th>Normal Not Answer Calls</th>\n",
              "      <th>Outgoing Seizures</th>\n",
              "      <th>FEV Seizures</th>\n",
              "      <th>Network Conversation Minutes</th>\n",
              "      <th>NER</th>\n",
              "      <th>ACD</th>\n",
              "    </tr>\n",
              "  </thead>\n",
              "  <tbody>\n",
              "    <tr>\n",
              "      <th>0</th>\n",
              "      <td>-0.097274</td>\n",
              "      <td>-0.104956</td>\n",
              "      <td>-0.110750</td>\n",
              "      <td>-0.096416</td>\n",
              "      <td>-0.089276</td>\n",
              "      <td>-0.104202</td>\n",
              "      <td>-0.094213</td>\n",
              "      <td>0.538661</td>\n",
              "      <td>-0.260589</td>\n",
              "    </tr>\n",
              "    <tr>\n",
              "      <th>1</th>\n",
              "      <td>-0.097284</td>\n",
              "      <td>-0.104957</td>\n",
              "      <td>-0.110748</td>\n",
              "      <td>-0.096419</td>\n",
              "      <td>-0.089276</td>\n",
              "      <td>-0.104203</td>\n",
              "      <td>-0.094214</td>\n",
              "      <td>0.538661</td>\n",
              "      <td>-0.626521</td>\n",
              "    </tr>\n",
              "    <tr>\n",
              "      <th>2</th>\n",
              "      <td>-0.069447</td>\n",
              "      <td>-0.063757</td>\n",
              "      <td>-0.089269</td>\n",
              "      <td>-0.043025</td>\n",
              "      <td>-0.061540</td>\n",
              "      <td>-0.100785</td>\n",
              "      <td>-0.061043</td>\n",
              "      <td>0.375909</td>\n",
              "      <td>0.724474</td>\n",
              "    </tr>\n",
              "    <tr>\n",
              "      <th>3</th>\n",
              "      <td>-0.097282</td>\n",
              "      <td>-0.104957</td>\n",
              "      <td>-0.110746</td>\n",
              "      <td>-0.096421</td>\n",
              "      <td>-0.089276</td>\n",
              "      <td>-0.104203</td>\n",
              "      <td>-0.094214</td>\n",
              "      <td>0.538661</td>\n",
              "      <td>-0.544780</td>\n",
              "    </tr>\n",
              "    <tr>\n",
              "      <th>4</th>\n",
              "      <td>-0.097270</td>\n",
              "      <td>-0.104956</td>\n",
              "      <td>-0.110752</td>\n",
              "      <td>-0.096415</td>\n",
              "      <td>-0.089274</td>\n",
              "      <td>-0.104190</td>\n",
              "      <td>-0.094212</td>\n",
              "      <td>-0.562401</td>\n",
              "      <td>0.125380</td>\n",
              "    </tr>\n",
              "  </tbody>\n",
              "</table>\n",
              "</div>"
            ],
            "text/plain": [
              "   Incoming Attempts  Normal Term Seizures  Answered Calls  \\\n",
              "0          -0.097274             -0.104956       -0.110750   \n",
              "1          -0.097284             -0.104957       -0.110748   \n",
              "2          -0.069447             -0.063757       -0.089269   \n",
              "3          -0.097282             -0.104957       -0.110746   \n",
              "4          -0.097270             -0.104956       -0.110752   \n",
              "\n",
              "   Normal Not Answer Calls  Outgoing Seizures  FEV Seizures  \\\n",
              "0                -0.096416          -0.089276     -0.104202   \n",
              "1                -0.096419          -0.089276     -0.104203   \n",
              "2                -0.043025          -0.061540     -0.100785   \n",
              "3                -0.096421          -0.089276     -0.104203   \n",
              "4                -0.096415          -0.089274     -0.104190   \n",
              "\n",
              "   Network Conversation Minutes       NER       ACD  \n",
              "0                     -0.094213  0.538661 -0.260589  \n",
              "1                     -0.094214  0.538661 -0.626521  \n",
              "2                     -0.061043  0.375909  0.724474  \n",
              "3                     -0.094214  0.538661 -0.544780  \n",
              "4                     -0.094212 -0.562401  0.125380  "
            ]
          },
          "metadata": {
            "tags": []
          },
          "execution_count": 42
        }
      ]
    },
    {
      "metadata": {
        "id": "UETyaA4YVDuz",
        "colab_type": "code",
        "colab": {}
      },
      "cell_type": "code",
      "source": [
        "feature_cols = ['Incoming Attempts',\t'Normal Term Seizures',\t'Answered Calls',\t'Normal Not Answer Calls',\t'Outgoing Seizures',\t'FEV Seizures',\t'Network Conversation Minutes',\t'NER']\n",
        "X = data[feature_cols]"
      ],
      "execution_count": 0,
      "outputs": []
    },
    {
      "metadata": {
        "id": "yrYEC7lzVXGt",
        "colab_type": "code",
        "colab": {
          "base_uri": "https://localhost:8080/",
          "height": 51
        },
        "outputId": "0d43c0eb-d5a0-4401-a2a2-801afa3a7f46"
      },
      "cell_type": "code",
      "source": [
        "print(type(X))\n",
        "print(X.shape)"
      ],
      "execution_count": 46,
      "outputs": [
        {
          "output_type": "stream",
          "text": [
            "<class 'pandas.core.frame.DataFrame'>\n",
            "(1678, 8)\n"
          ],
          "name": "stdout"
        }
      ]
    },
    {
      "metadata": {
        "id": "sXLwmdyyVlkn",
        "colab_type": "code",
        "colab": {
          "base_uri": "https://localhost:8080/",
          "height": 119
        },
        "outputId": "ece92794-5092-4584-d93d-5a18b9980e98"
      },
      "cell_type": "code",
      "source": [
        "y = data.ACD\n",
        "y.head()"
      ],
      "execution_count": 47,
      "outputs": [
        {
          "output_type": "execute_result",
          "data": {
            "text/plain": [
              "0   -0.260589\n",
              "1   -0.626521\n",
              "2    0.724474\n",
              "3   -0.544780\n",
              "4    0.125380\n",
              "Name: ACD, dtype: float64"
            ]
          },
          "metadata": {
            "tags": []
          },
          "execution_count": 47
        }
      ]
    },
    {
      "metadata": {
        "id": "5Umot3GnVzbJ",
        "colab_type": "code",
        "colab": {
          "base_uri": "https://localhost:8080/",
          "height": 51
        },
        "outputId": "235eba5a-ab52-443b-d093-95f2dc756b3c"
      },
      "cell_type": "code",
      "source": [
        "print(type(y))\n",
        "print(y.shape)"
      ],
      "execution_count": 48,
      "outputs": [
        {
          "output_type": "stream",
          "text": [
            "<class 'pandas.core.series.Series'>\n",
            "(1678,)\n"
          ],
          "name": "stdout"
        }
      ]
    },
    {
      "metadata": {
        "id": "tZt-o45hWOeR",
        "colab_type": "code",
        "colab": {}
      },
      "cell_type": "code",
      "source": [
        "from sklearn.model_selection import train_test_split\n",
        "def split(X,y):\n",
        "    return train_test_split(X, y, test_size=0.20, random_state=1)\n"
      ],
      "execution_count": 0,
      "outputs": []
    },
    {
      "metadata": {
        "id": "JQyui4yxdVRs",
        "colab_type": "code",
        "colab": {
          "base_uri": "https://localhost:8080/",
          "height": 136
        },
        "outputId": "06c0fe2c-4586-4f30-c5cc-4cb320f40a99"
      },
      "cell_type": "code",
      "source": [
        "X_train, X_test, y_train, y_test=split(X,y)\n",
        "print('Train cases as below')\n",
        "print('X_train shape: ',X_train.shape)\n",
        "print('y_train shape: ',y_train.shape)\n",
        "print('\\nTest cases as below')\n",
        "print('X_test shape: ',X_test.shape)\n",
        "print('y_test shape: ',y_test.shape)"
      ],
      "execution_count": 50,
      "outputs": [
        {
          "output_type": "stream",
          "text": [
            "Train cases as below\n",
            "('X_train shape: ', (1342, 8))\n",
            "('y_train shape: ', (1342,))\n",
            "\n",
            "Test cases as below\n",
            "('X_test shape: ', (336, 8))\n",
            "('y_test shape: ', (336,))\n"
          ],
          "name": "stdout"
        }
      ]
    },
    {
      "metadata": {
        "id": "sIlKVbtXdyAG",
        "colab_type": "code",
        "colab": {}
      },
      "cell_type": "code",
      "source": [
        "from sklearn.linear_model import LinearRegression\n",
        "import numpy as np\n",
        "from sklearn import metrics\n",
        "from sklearn import linear_model\n",
        "\n",
        "#model 1\n",
        "\n",
        "linreg = LinearRegression()\n",
        "linreg.fit(X_train, y_train)\n",
        "y_pred_test = linreg.predict(X_test)\n",
        "#y_pred_test2 = linreg.predict(y_test)\n",
        "\n",
        "#Accuracy\n",
        "RMSE_test = np.sqrt(metrics.mean_squared_error(y_test,y_pred_test))\n"
      ],
      "execution_count": 0,
      "outputs": []
    },
    {
      "metadata": {
        "id": "arhn6u5df0nn",
        "colab_type": "code",
        "colab": {
          "base_uri": "https://localhost:8080/",
          "height": 34
        },
        "outputId": "5f5ffc1e-fd90-4f9a-c570-8d4c855e3593"
      },
      "cell_type": "code",
      "source": [
        "RMSE_test"
      ],
      "execution_count": 69,
      "outputs": [
        {
          "output_type": "execute_result",
          "data": {
            "text/plain": [
              "1.2896313602761296"
            ]
          },
          "metadata": {
            "tags": []
          },
          "execution_count": 69
        }
      ]
    },
    {
      "metadata": {
        "id": "RFwDHx-3iCYz",
        "colab_type": "code",
        "colab": {
          "base_uri": "https://localhost:8080/",
          "height": 88
        },
        "outputId": "109cca3d-4851-46d3-fbbd-d1010548ea61"
      },
      "cell_type": "code",
      "source": [
        "print('Intercept:', linreg.intercept_)\n",
        "print('Coefficients:',linreg.coef_)"
      ],
      "execution_count": 70,
      "outputs": [
        {
          "output_type": "stream",
          "text": [
            "('Intercept:', -0.019023095764239016)\n",
            "('Coefficients:', array([-0.48131441, -0.05985643, -0.03385168, -0.07570249,  0.44777344,\n",
            "        0.02691   ,  0.28936098, -0.10555596]))\n"
          ],
          "name": "stdout"
        }
      ]
    },
    {
      "metadata": {
        "id": "sKOcG11Zielb",
        "colab_type": "code",
        "colab": {}
      },
      "cell_type": "code",
      "source": [
        "feature_cols.insert(0,'Intercept')\n",
        "coef = linreg.coef_.tolist()\n",
        "coef.insert(0, linreg.intercept_)"
      ],
      "execution_count": 0,
      "outputs": []
    },
    {
      "metadata": {
        "id": "xQl0Lbaui09k",
        "colab_type": "code",
        "colab": {
          "base_uri": "https://localhost:8080/",
          "height": 170
        },
        "outputId": "cde0e18c-a30a-436a-a158-e9b1eb4f35f9"
      },
      "cell_type": "code",
      "source": [
        "eq1 = zip(feature_cols, coef)\n",
        "\n",
        "for c1,c2 in eq1:\n",
        "  print(c1,c2)\n",
        "  "
      ],
      "execution_count": 73,
      "outputs": [
        {
          "output_type": "stream",
          "text": [
            "('Intercept', -0.019023095764239016)\n",
            "('Incoming Attempts', -0.481314414547744)\n",
            "('Normal Term Seizures', -0.059856428530235595)\n",
            "('Answered Calls', -0.03385167795936983)\n",
            "('Normal Not Answer Calls', -0.0757024921098109)\n",
            "('Outgoing Seizures', 0.4477734448793444)\n",
            "('FEV Seizures', 0.02691000372191695)\n",
            "('Network Conversation Minutes', 0.2893609827913359)\n",
            "('NER', -0.10555595662789213)\n"
          ],
          "name": "stdout"
        }
      ]
    },
    {
      "metadata": {
        "id": "oNhEiU0ojXUo",
        "colab_type": "code",
        "colab": {
          "base_uri": "https://localhost:8080/",
          "height": 235
        },
        "outputId": "6b1f62ae-c14a-49d5-eff8-fc7bd90703c5"
      },
      "cell_type": "code",
      "source": [
        "y_pred_test = linreg.predict(X_test)\n",
        "y_test\n",
        "\n",
        "df = pd.DataFrame(y_pred_test, y_test)\n",
        "df.columns = ['Actual']\n",
        "df.head()"
      ],
      "execution_count": 74,
      "outputs": [
        {
          "output_type": "execute_result",
          "data": {
            "text/html": [
              "<div>\n",
              "<style scoped>\n",
              "    .dataframe tbody tr th:only-of-type {\n",
              "        vertical-align: middle;\n",
              "    }\n",
              "\n",
              "    .dataframe tbody tr th {\n",
              "        vertical-align: top;\n",
              "    }\n",
              "\n",
              "    .dataframe thead th {\n",
              "        text-align: right;\n",
              "    }\n",
              "</style>\n",
              "<table border=\"1\" class=\"dataframe\">\n",
              "  <thead>\n",
              "    <tr style=\"text-align: right;\">\n",
              "      <th></th>\n",
              "      <th>Actual</th>\n",
              "    </tr>\n",
              "    <tr>\n",
              "      <th>ACD</th>\n",
              "      <th></th>\n",
              "    </tr>\n",
              "  </thead>\n",
              "  <tbody>\n",
              "    <tr>\n",
              "      <th>0.040910</th>\n",
              "      <td>-0.081785</td>\n",
              "    </tr>\n",
              "    <tr>\n",
              "      <th>0.179910</th>\n",
              "      <td>-0.081769</td>\n",
              "    </tr>\n",
              "    <tr>\n",
              "      <th>-0.063910</th>\n",
              "      <td>0.167546</td>\n",
              "    </tr>\n",
              "    <tr>\n",
              "      <th>0.036189</th>\n",
              "      <td>0.028516</td>\n",
              "    </tr>\n",
              "    <tr>\n",
              "      <th>0.005864</th>\n",
              "      <td>-0.055799</td>\n",
              "    </tr>\n",
              "  </tbody>\n",
              "</table>\n",
              "</div>"
            ],
            "text/plain": [
              "             Actual\n",
              "ACD                \n",
              " 0.040910 -0.081785\n",
              " 0.179910 -0.081769\n",
              "-0.063910  0.167546\n",
              " 0.036189  0.028516\n",
              " 0.005864 -0.055799"
            ]
          },
          "metadata": {
            "tags": []
          },
          "execution_count": 74
        }
      ]
    },
    {
      "metadata": {
        "id": "i8TryRnykXmX",
        "colab_type": "code",
        "colab": {
          "base_uri": "https://localhost:8080/",
          "height": 34
        },
        "outputId": "75c8d646-10cc-43ce-951d-ccbfc7482c47"
      },
      "cell_type": "code",
      "source": [
        "linreg.predict(X[:1])"
      ],
      "execution_count": 76,
      "outputs": [
        {
          "output_type": "execute_result",
          "data": {
            "text/plain": [
              "array([-0.08177313])"
            ]
          },
          "metadata": {
            "tags": []
          },
          "execution_count": 76
        }
      ]
    }
  ]
}