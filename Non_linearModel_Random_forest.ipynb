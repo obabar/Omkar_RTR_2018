{
  "nbformat": 4,
  "nbformat_minor": 0,
  "metadata": {
    "colab": {
      "name": "Untitled4.ipynb",
      "version": "0.3.2",
      "provenance": [],
      "include_colab_link": true
    },
    "kernelspec": {
      "name": "python3",
      "display_name": "Python 3"
    }
  },
  "cells": [
    {
      "cell_type": "markdown",
      "metadata": {
        "id": "view-in-github",
        "colab_type": "text"
      },
      "source": [
        "<a href=\"https://colab.research.google.com/github/obabar/Omkar_RTR_2018/blob/AI_ML_DS/Non_linearModel_Random_forest.ipynb\" target=\"_parent\"><img src=\"https://colab.research.google.com/assets/colab-badge.svg\" alt=\"Open In Colab\"/></a>"
      ]
    },
    {
      "metadata": {
        "id": "4ADzLbA_oXMT",
        "colab_type": "code",
        "colab": {}
      },
      "cell_type": "code",
      "source": [
        ""
      ],
      "execution_count": 0,
      "outputs": []
    },
    {
      "metadata": {
        "id": "F2FwSrj2v1T8",
        "colab_type": "code",
        "colab": {}
      },
      "cell_type": "code",
      "source": [
        "import numpy as np                                                 # Implemennts milti-dimensional array and matrices\n",
        "import pandas as pd                                                # For data manipulation and analysis\n",
        "import pandas_profiling\n",
        "import matplotlib.pyplot as plt                                    # Plotting library for Python programming language and it's numerical mathematics extension NumPy\n",
        "import seaborn as sns                                              # Provides a high level interface for drawing attractive and informative statistical graphics\n",
        "%matplotlib inline\n",
        "from sklearn.metrics import confusion_matrix\n",
        "sns.set()"
      ],
      "execution_count": 0,
      "outputs": []
    },
    {
      "metadata": {
        "id": "-W8kvPXI1feZ",
        "colab_type": "code",
        "colab": {}
      },
      "cell_type": "code",
      "source": [
        "data = pd.read_csv(\"https://raw.githubusercontent.com/equester/TataTelecomAI/master/Sample%20Data/data_P.csv\")"
      ],
      "execution_count": 0,
      "outputs": []
    },
    {
      "metadata": {
        "id": "08b4efF-1j5P",
        "colab_type": "code",
        "outputId": "8dcfbecf-8f19-4135-99b1-10e264c5ce3e",
        "colab": {
          "base_uri": "https://localhost:8080/",
          "height": 326
        }
      },
      "cell_type": "code",
      "source": [
        "data.head()"
      ],
      "execution_count": 0,
      "outputs": [
        {
          "output_type": "execute_result",
          "data": {
            "text/html": [
              "<div>\n",
              "<style scoped>\n",
              "    .dataframe tbody tr th:only-of-type {\n",
              "        vertical-align: middle;\n",
              "    }\n",
              "\n",
              "    .dataframe tbody tr th {\n",
              "        vertical-align: top;\n",
              "    }\n",
              "\n",
              "    .dataframe thead th {\n",
              "        text-align: right;\n",
              "    }\n",
              "</style>\n",
              "<table border=\"1\" class=\"dataframe\">\n",
              "  <thead>\n",
              "    <tr style=\"text-align: right;\">\n",
              "      <th></th>\n",
              "      <th>Incoming Attempts</th>\n",
              "      <th>Normal Term Seizures</th>\n",
              "      <th>Answered Calls</th>\n",
              "      <th>Normal Not Answer Calls</th>\n",
              "      <th>Outgoing Seizures</th>\n",
              "      <th>FEV Seizures</th>\n",
              "      <th>Network Conversation Minutes</th>\n",
              "      <th>NER</th>\n",
              "      <th>ACD</th>\n",
              "      <th>New Pricing Service</th>\n",
              "    </tr>\n",
              "  </thead>\n",
              "  <tbody>\n",
              "    <tr>\n",
              "      <th>0</th>\n",
              "      <td>41</td>\n",
              "      <td>41</td>\n",
              "      <td>40</td>\n",
              "      <td>1</td>\n",
              "      <td>41</td>\n",
              "      <td>0</td>\n",
              "      <td>14.533333</td>\n",
              "      <td>100.000000</td>\n",
              "      <td>0.363333</td>\n",
              "      <td>Call Center</td>\n",
              "    </tr>\n",
              "    <tr>\n",
              "      <th>1</th>\n",
              "      <td>239</td>\n",
              "      <td>49</td>\n",
              "      <td>11</td>\n",
              "      <td>38</td>\n",
              "      <td>71</td>\n",
              "      <td>14</td>\n",
              "      <td>36.666667</td>\n",
              "      <td>85.964912</td>\n",
              "      <td>3.333333</td>\n",
              "      <td>Call Center</td>\n",
              "    </tr>\n",
              "    <tr>\n",
              "      <th>2</th>\n",
              "      <td>8019</td>\n",
              "      <td>459</td>\n",
              "      <td>188</td>\n",
              "      <td>271</td>\n",
              "      <td>643</td>\n",
              "      <td>103</td>\n",
              "      <td>1435.066667</td>\n",
              "      <td>85.000000</td>\n",
              "      <td>7.633333</td>\n",
              "      <td>Corporate</td>\n",
              "    </tr>\n",
              "    <tr>\n",
              "      <th>3</th>\n",
              "      <td>10</td>\n",
              "      <td>8</td>\n",
              "      <td>8</td>\n",
              "      <td>0</td>\n",
              "      <td>8</td>\n",
              "      <td>0</td>\n",
              "      <td>13.133333</td>\n",
              "      <td>100.000000</td>\n",
              "      <td>1.641667</td>\n",
              "      <td>Corporate</td>\n",
              "    </tr>\n",
              "    <tr>\n",
              "      <th>4</th>\n",
              "      <td>117</td>\n",
              "      <td>96</td>\n",
              "      <td>13</td>\n",
              "      <td>83</td>\n",
              "      <td>112</td>\n",
              "      <td>4</td>\n",
              "      <td>64.016667</td>\n",
              "      <td>88.888889</td>\n",
              "      <td>4.924359</td>\n",
              "      <td>Call Center</td>\n",
              "    </tr>\n",
              "  </tbody>\n",
              "</table>\n",
              "</div>"
            ],
            "text/plain": [
              "   Incoming Attempts  Normal Term Seizures  Answered Calls  \\\n",
              "0                 41                    41              40   \n",
              "1                239                    49              11   \n",
              "2               8019                   459             188   \n",
              "3                 10                     8               8   \n",
              "4                117                    96              13   \n",
              "\n",
              "   Normal Not Answer Calls  Outgoing Seizures  FEV Seizures  \\\n",
              "0                        1                 41             0   \n",
              "1                       38                 71            14   \n",
              "2                      271                643           103   \n",
              "3                        0                  8             0   \n",
              "4                       83                112             4   \n",
              "\n",
              "   Network Conversation Minutes         NER       ACD New Pricing Service  \n",
              "0                     14.533333  100.000000  0.363333         Call Center  \n",
              "1                     36.666667   85.964912  3.333333         Call Center  \n",
              "2                   1435.066667   85.000000  7.633333           Corporate  \n",
              "3                     13.133333  100.000000  1.641667           Corporate  \n",
              "4                     64.016667   88.888889  4.924359         Call Center  "
            ]
          },
          "metadata": {
            "tags": []
          },
          "execution_count": 25
        }
      ]
    },
    {
      "metadata": {
        "id": "CQuqxmtG1nJ5",
        "colab_type": "code",
        "colab": {}
      },
      "cell_type": "code",
      "source": [
        "X = data.loc[:,data.columns != 'New Pricing Service']\n",
        "y = data['New Pricing Service']"
      ],
      "execution_count": 0,
      "outputs": []
    },
    {
      "metadata": {
        "id": "0ItK3MMq1tH0",
        "colab_type": "code",
        "colab": {}
      },
      "cell_type": "code",
      "source": [
        "from sklearn.model_selection import train_test_split\n",
        "X_train, X_test, y_train, y_test = train_test_split(X, y, test_size=0.20, random_state=1)"
      ],
      "execution_count": 0,
      "outputs": []
    },
    {
      "metadata": {
        "id": "gNbaIMyO1w4S",
        "colab_type": "code",
        "outputId": "553a01e0-1043-4ce9-e917-6543f8930b8e",
        "colab": {
          "base_uri": "https://localhost:8080/",
          "height": 87
        }
      },
      "cell_type": "code",
      "source": [
        "from sklearn.linear_model import LogisticRegression\n",
        "logreg = LogisticRegression()\n",
        "logreg.fit(X_train,y_train)\n",
        "y_pred_test = logreg.predict(X_test)\n",
        "from sklearn.metrics import accuracy_score\n",
        "print('Accuracy score for test data is:', accuracy_score(y_test,y_pred_test))\n",
        "\n",
        "from sklearn.metrics import confusion_matrix\n",
        "confusion_matrix = pd.DataFrame(confusion_matrix(y_test, y_pred_test))\n",
        "print(confusion_matrix)"
      ],
      "execution_count": 0,
      "outputs": [
        {
          "output_type": "stream",
          "text": [
            "('Accuracy score for test data is:', 0.7272727272727273)\n",
            "    0   1\n",
            "0  45   4\n",
            "1  26  35\n"
          ],
          "name": "stdout"
        }
      ]
    },
    {
      "metadata": {
        "id": "LO7a8drz2erC",
        "colab_type": "code",
        "outputId": "8892b6fe-7c02-4dcf-e4e6-14add62ab52f",
        "colab": {
          "base_uri": "https://localhost:8080/",
          "height": 87
        }
      },
      "cell_type": "code",
      "source": [
        "from sklearn import tree\n",
        "dtree = tree.DecisionTreeClassifier(random_state = 0)\n",
        "dtree.fit(X_train, y_train)\n",
        "y_pred_test = dtree.predict(X_test)\n",
        "from sklearn.metrics import accuracy_score\n",
        "print('Accuracy score for test data is:', accuracy_score(y_test,y_pred_test))\n",
        "\n",
        "from sklearn.metrics import confusion_matrix\n",
        "confusion_matrix = pd.DataFrame(confusion_matrix(y_test, y_pred_test))\n",
        "print(confusion_matrix)"
      ],
      "execution_count": 0,
      "outputs": [
        {
          "output_type": "stream",
          "text": [
            "('Accuracy score for test data is:', 0.7636363636363637)\n",
            "    0   1\n",
            "0  37  12\n",
            "1  14  47\n"
          ],
          "name": "stdout"
        }
      ]
    },
    {
      "metadata": {
        "id": "UVnYnGkw2tVH",
        "colab_type": "code",
        "outputId": "6516281d-aaf3-4b0a-8f31-89ea9167e65e",
        "colab": {
          "base_uri": "https://localhost:8080/",
          "height": 35
        }
      },
      "cell_type": "code",
      "source": [
        "from graphviz import Source\n",
        "graph = Source( tree.export_graphviz(dtree, out_file=None,filled=True, \n",
        "                                rounded=True,  \n",
        "                                special_characters=True, feature_names=X.columns))\n",
        "graph.format = 'png'\n",
        "graph.render('dtree_render',view=True)"
      ],
      "execution_count": 0,
      "outputs": [
        {
          "output_type": "execute_result",
          "data": {
            "text/plain": [
              "'dtree_render.png'"
            ]
          },
          "metadata": {
            "tags": []
          },
          "execution_count": 29
        }
      ]
    },
    {
      "metadata": {
        "id": "CVacBbon27-L",
        "colab_type": "code",
        "outputId": "2e4b52f6-a533-423b-b5ae-4b50c675b324",
        "colab": {
          "base_uri": "https://localhost:8080/",
          "height": 141
        }
      },
      "cell_type": "code",
      "source": [
        "from sklearn.tree import DecisionTreeClassifier\n",
        "from sklearn.model_selection import GridSearchCV\n",
        "\n",
        "decision_tree_classifier = DecisionTreeClassifier(random_state = 0)\n",
        "\n",
        "\n",
        "tree_para = [{'criterion':['gini','entropy'],'max_depth': range(2,60),\n",
        "                             'max_features': ['sqrt', 'log2', None] }]\n",
        "                            \n",
        "                            \n",
        "\n",
        "grid_search = GridSearchCV(decision_tree_classifier,tree_para, cv=10, refit='AUC')\n",
        "grid_search.fit(X_train, y_train)\n",
        "y_pred_test1 = grid_search.predict(X_test)\n",
        "from sklearn.metrics import accuracy_score\n",
        "print('Accuracy score for test data is:', accuracy_score(y_test,y_pred_test1))\n",
        "\n",
        "from sklearn.metrics import confusion_matrix\n",
        "confusion_matrix = pd.DataFrame(confusion_matrix(y_test, y_pred_test))\n",
        "print(confusion_matrix)\n"
      ],
      "execution_count": 0,
      "outputs": [
        {
          "output_type": "stream",
          "text": [
            "('Accuracy score for test data is:', 0.7545454545454545)\n",
            "    0   1\n",
            "0  37  12\n",
            "1  14  47\n"
          ],
          "name": "stdout"
        },
        {
          "output_type": "stream",
          "text": [
            "/usr/local/lib/python2.7/dist-packages/sklearn/model_selection/_search.py:841: DeprecationWarning: The default of the `iid` parameter will change from True to False in version 0.22 and will be removed in 0.24. This will change numeric results when test-set sizes are unequal.\n",
            "  DeprecationWarning)\n"
          ],
          "name": "stderr"
        }
      ]
    },
    {
      "metadata": {
        "id": "SrfZqeuD3dYR",
        "colab_type": "code",
        "outputId": "eb0b8c92-e6de-4f0b-f63d-ffe85d17686a",
        "colab": {
          "base_uri": "https://localhost:8080/",
          "height": 87
        }
      },
      "cell_type": "code",
      "source": [
        "from sklearn.ensemble import RandomForestClassifier\n",
        "\n",
        "rf = RandomForestClassifier()\n",
        "\n",
        "rf.fit(X_train, y_train)\n",
        "\n",
        "y_pred_test = rf.predict(X_test)\n",
        "from sklearn.metrics import accuracy_score\n",
        "print('Accuracy score for test data is:', accuracy_score(y_test,y_pred_test))\n",
        "\n",
        "from sklearn.metrics import confusion_matrix\n",
        "confusion_matrix = pd.DataFrame(confusion_matrix(y_test, y_pred_test))\n",
        "print(confusion_matrix)"
      ],
      "execution_count": 0,
      "outputs": [
        {
          "output_type": "stream",
          "text": [
            "('Accuracy score for test data is:', 0.8727272727272727)\n",
            "    0   1\n",
            "0  43   6\n",
            "1   8  53\n"
          ],
          "name": "stdout"
        }
      ]
    },
    {
      "metadata": {
        "id": "nu1FAbYT3jqC",
        "colab_type": "code",
        "outputId": "1dcd699e-6e4e-4206-f1ee-b5a0b7d4684f",
        "colab": {
          "base_uri": "https://localhost:8080/",
          "height": 87
        }
      },
      "cell_type": "code",
      "source": [
        "rf1 = RandomForestClassifier(random_state = 0,\n",
        "                                n_estimators = 30,\n",
        "                                min_samples_split = 5,\n",
        "                                min_samples_leaf = 2)\n",
        "\n",
        "rf1.fit(X_train, y_train)\n",
        "y_pred_test = rf1.predict(X_test)\n",
        "from sklearn.metrics import accuracy_score\n",
        "print('Accuracy score for test data is:', accuracy_score(y_test,y_pred_test))\n",
        "\n",
        "from sklearn.metrics import confusion_matrix\n",
        "confusion_matrix = pd.DataFrame(confusion_matrix(y_test, y_pred_test))\n",
        "print(confusion_matrix)"
      ],
      "execution_count": 0,
      "outputs": [
        {
          "output_type": "stream",
          "text": [
            "('Accuracy score for test data is:', 0.8454545454545455)\n",
            "    0   1\n",
            "0  42   7\n",
            "1  10  51\n"
          ],
          "name": "stdout"
        }
      ]
    },
    {
      "metadata": {
        "id": "j90rV8kaoiGl",
        "colab_type": "code",
        "colab": {}
      },
      "cell_type": "code",
      "source": [
        "from xgboost import XGBClassifier\n",
        "xgboost = XGBClassifier()"
      ],
      "execution_count": 0,
      "outputs": []
    },
    {
      "metadata": {
        "id": "TA7DW8Qe3so_",
        "colab_type": "code",
        "outputId": "892563de-4748-4fd3-98c7-42ede230519e",
        "colab": {
          "base_uri": "https://localhost:8080/",
          "height": 141
        }
      },
      "cell_type": "code",
      "source": [
        "from sklearn.model_selection import RandomizedSearchCV\n",
        "from scipy.stats import randint as sp_randint\n",
        "# parameters for GridSearchCV\n",
        "# specify parameters and distributions to sample from\n",
        "param_dist = {\"max_depth\": range(2,5),\n",
        "              \"min_samples_split\": sp_randint(2, 11),\n",
        "              \"min_samples_leaf\": sp_randint(1, 11),\n",
        "              \"bootstrap\": [True, False],\n",
        "              \"n_estimators\": [100, 400, 700, 1000, 1500],\n",
        "              \"criterion\" : [\"gini\", \"entropy\"],\n",
        "              'max_features': ['sqrt', 'log2', None]\n",
        "             }\n",
        "# run randomized search\n",
        "n_iter_search = 50\n",
        "random_search = RandomizedSearchCV(rf, param_distributions = param_dist,\n",
        "                                   n_iter = n_iter_search,\n",
        "                                   n_jobs = -1)\n",
        "\n",
        "random_search.fit(X_train, y_train)\n",
        "y_pred_test = random_search.predict(X_test)\n",
        "from sklearn.metrics import accuracy_score\n",
        "print('Accuracy score for test data is:', accuracy_score(y_test,y_pred_test))\n",
        "\n",
        "from sklearn.metrics import confusion_matrix\n",
        "confusion_matrix = pd.DataFrame(confusion_matrix(y_test, y_pred_test))\n",
        "print(confusion_matrix)\n"
      ],
      "execution_count": 0,
      "outputs": [
        {
          "output_type": "stream",
          "text": [
            "/usr/local/lib/python2.7/dist-packages/sklearn/model_selection/_split.py:2053: FutureWarning: You should specify a value for 'cv' instead of relying on the default value. The default value will change from 3 to 5 in version 0.22.\n",
            "  warnings.warn(CV_WARNING, FutureWarning)\n"
          ],
          "name": "stderr"
        },
        {
          "output_type": "stream",
          "text": [
            "('Accuracy score for test data is:', 0.8181818181818182)\n",
            "    0   1\n",
            "0  41   8\n",
            "1  12  49\n"
          ],
          "name": "stdout"
        }
      ]
    },
    {
      "metadata": {
        "id": "ZY7gekIL48Pg",
        "colab_type": "code",
        "colab": {}
      },
      "cell_type": "code",
      "source": [
        "#Exporting Model to Object \n",
        "\n",
        "Model = rf1\n",
        "import pickle\n",
        "filename = 'finalized_model5_rfWParameter.sav'\n",
        "pickle.dump(Model, open(filename, 'wb'))\n",
        "\n"
      ],
      "execution_count": 0,
      "outputs": []
    },
    {
      "metadata": {
        "id": "JtOW1y9hdMFH",
        "colab_type": "code",
        "colab": {}
      },
      "cell_type": "code",
      "source": [
        "testdata = pd.read_csv(\"https://raw.githubusercontent.com/equester/TataTelecomAI/master/data_CC.csv\")"
      ],
      "execution_count": 0,
      "outputs": []
    },
    {
      "metadata": {
        "id": "79HcPabCeZlK",
        "colab_type": "code",
        "outputId": "7c6f230b-e6a1-48dc-8c36-3110af60ac30",
        "colab": {
          "base_uri": "https://localhost:8080/",
          "height": 254
        }
      },
      "cell_type": "code",
      "source": [
        "testdata.head()"
      ],
      "execution_count": 0,
      "outputs": [
        {
          "output_type": "execute_result",
          "data": {
            "text/html": [
              "<div>\n",
              "<style scoped>\n",
              "    .dataframe tbody tr th:only-of-type {\n",
              "        vertical-align: middle;\n",
              "    }\n",
              "\n",
              "    .dataframe tbody tr th {\n",
              "        vertical-align: top;\n",
              "    }\n",
              "\n",
              "    .dataframe thead th {\n",
              "        text-align: right;\n",
              "    }\n",
              "</style>\n",
              "<table border=\"1\" class=\"dataframe\">\n",
              "  <thead>\n",
              "    <tr style=\"text-align: right;\">\n",
              "      <th></th>\n",
              "      <th>Incoming Attempts</th>\n",
              "      <th>Normal Term Seizures</th>\n",
              "      <th>Answered Calls</th>\n",
              "      <th>Normal Not Answer Calls</th>\n",
              "      <th>Outgoing Seizures</th>\n",
              "      <th>FEV Seizures</th>\n",
              "      <th>Network Conversation Minutes</th>\n",
              "      <th>NER</th>\n",
              "      <th>ACD</th>\n",
              "    </tr>\n",
              "  </thead>\n",
              "  <tbody>\n",
              "    <tr>\n",
              "      <th>0</th>\n",
              "      <td>41</td>\n",
              "      <td>41</td>\n",
              "      <td>40</td>\n",
              "      <td>1</td>\n",
              "      <td>41</td>\n",
              "      <td>0</td>\n",
              "      <td>14.533333</td>\n",
              "      <td>100.000000</td>\n",
              "      <td>0.363333</td>\n",
              "    </tr>\n",
              "    <tr>\n",
              "      <th>1</th>\n",
              "      <td>239</td>\n",
              "      <td>49</td>\n",
              "      <td>11</td>\n",
              "      <td>38</td>\n",
              "      <td>71</td>\n",
              "      <td>14</td>\n",
              "      <td>36.666667</td>\n",
              "      <td>85.964912</td>\n",
              "      <td>3.333333</td>\n",
              "    </tr>\n",
              "    <tr>\n",
              "      <th>2</th>\n",
              "      <td>117</td>\n",
              "      <td>96</td>\n",
              "      <td>13</td>\n",
              "      <td>83</td>\n",
              "      <td>112</td>\n",
              "      <td>4</td>\n",
              "      <td>64.016667</td>\n",
              "      <td>88.888889</td>\n",
              "      <td>4.924359</td>\n",
              "    </tr>\n",
              "    <tr>\n",
              "      <th>3</th>\n",
              "      <td>503</td>\n",
              "      <td>369</td>\n",
              "      <td>92</td>\n",
              "      <td>277</td>\n",
              "      <td>387</td>\n",
              "      <td>4</td>\n",
              "      <td>275.700000</td>\n",
              "      <td>96.344648</td>\n",
              "      <td>2.996739</td>\n",
              "    </tr>\n",
              "    <tr>\n",
              "      <th>4</th>\n",
              "      <td>80</td>\n",
              "      <td>26</td>\n",
              "      <td>10</td>\n",
              "      <td>16</td>\n",
              "      <td>26</td>\n",
              "      <td>0</td>\n",
              "      <td>53.816667</td>\n",
              "      <td>100.000000</td>\n",
              "      <td>5.381667</td>\n",
              "    </tr>\n",
              "  </tbody>\n",
              "</table>\n",
              "</div>"
            ],
            "text/plain": [
              "   Incoming Attempts  Normal Term Seizures  Answered Calls  \\\n",
              "0                 41                    41              40   \n",
              "1                239                    49              11   \n",
              "2                117                    96              13   \n",
              "3                503                   369              92   \n",
              "4                 80                    26              10   \n",
              "\n",
              "   Normal Not Answer Calls  Outgoing Seizures  FEV Seizures  \\\n",
              "0                        1                 41             0   \n",
              "1                       38                 71            14   \n",
              "2                       83                112             4   \n",
              "3                      277                387             4   \n",
              "4                       16                 26             0   \n",
              "\n",
              "   Network Conversation Minutes         NER       ACD  \n",
              "0                     14.533333  100.000000  0.363333  \n",
              "1                     36.666667   85.964912  3.333333  \n",
              "2                     64.016667   88.888889  4.924359  \n",
              "3                    275.700000   96.344648  2.996739  \n",
              "4                     53.816667  100.000000  5.381667  "
            ]
          },
          "metadata": {
            "tags": []
          },
          "execution_count": 71
        }
      ]
    },
    {
      "metadata": {
        "id": "nFJGx33ndQuy",
        "colab_type": "code",
        "colab": {}
      },
      "cell_type": "code",
      "source": [
        "# print(logreg.predict(testdata))\n",
        "# print(rf.predict(testdata))\n",
        "# print(rf1.predict(testdata))\n",
        "\n",
        "newdata = testdata.copy()"
      ],
      "execution_count": 0,
      "outputs": []
    },
    {
      "metadata": {
        "id": "MGMQN_QVgLhE",
        "colab_type": "code",
        "outputId": "deeb6673-515c-4441-deaf-54e69bc94143",
        "colab": {
          "base_uri": "https://localhost:8080/",
          "height": 254
        }
      },
      "cell_type": "code",
      "source": [
        "newdata.head()"
      ],
      "execution_count": 0,
      "outputs": [
        {
          "output_type": "execute_result",
          "data": {
            "text/html": [
              "<div>\n",
              "<style scoped>\n",
              "    .dataframe tbody tr th:only-of-type {\n",
              "        vertical-align: middle;\n",
              "    }\n",
              "\n",
              "    .dataframe tbody tr th {\n",
              "        vertical-align: top;\n",
              "    }\n",
              "\n",
              "    .dataframe thead th {\n",
              "        text-align: right;\n",
              "    }\n",
              "</style>\n",
              "<table border=\"1\" class=\"dataframe\">\n",
              "  <thead>\n",
              "    <tr style=\"text-align: right;\">\n",
              "      <th></th>\n",
              "      <th>Incoming Attempts</th>\n",
              "      <th>Normal Term Seizures</th>\n",
              "      <th>Answered Calls</th>\n",
              "      <th>Normal Not Answer Calls</th>\n",
              "      <th>Outgoing Seizures</th>\n",
              "      <th>FEV Seizures</th>\n",
              "      <th>Network Conversation Minutes</th>\n",
              "      <th>NER</th>\n",
              "      <th>ACD</th>\n",
              "    </tr>\n",
              "  </thead>\n",
              "  <tbody>\n",
              "    <tr>\n",
              "      <th>0</th>\n",
              "      <td>41</td>\n",
              "      <td>41</td>\n",
              "      <td>40</td>\n",
              "      <td>1</td>\n",
              "      <td>41</td>\n",
              "      <td>0</td>\n",
              "      <td>14.533333</td>\n",
              "      <td>100.000000</td>\n",
              "      <td>0.363333</td>\n",
              "    </tr>\n",
              "    <tr>\n",
              "      <th>1</th>\n",
              "      <td>239</td>\n",
              "      <td>49</td>\n",
              "      <td>11</td>\n",
              "      <td>38</td>\n",
              "      <td>71</td>\n",
              "      <td>14</td>\n",
              "      <td>36.666667</td>\n",
              "      <td>85.964912</td>\n",
              "      <td>3.333333</td>\n",
              "    </tr>\n",
              "    <tr>\n",
              "      <th>2</th>\n",
              "      <td>117</td>\n",
              "      <td>96</td>\n",
              "      <td>13</td>\n",
              "      <td>83</td>\n",
              "      <td>112</td>\n",
              "      <td>4</td>\n",
              "      <td>64.016667</td>\n",
              "      <td>88.888889</td>\n",
              "      <td>4.924359</td>\n",
              "    </tr>\n",
              "    <tr>\n",
              "      <th>3</th>\n",
              "      <td>503</td>\n",
              "      <td>369</td>\n",
              "      <td>92</td>\n",
              "      <td>277</td>\n",
              "      <td>387</td>\n",
              "      <td>4</td>\n",
              "      <td>275.700000</td>\n",
              "      <td>96.344648</td>\n",
              "      <td>2.996739</td>\n",
              "    </tr>\n",
              "    <tr>\n",
              "      <th>4</th>\n",
              "      <td>80</td>\n",
              "      <td>26</td>\n",
              "      <td>10</td>\n",
              "      <td>16</td>\n",
              "      <td>26</td>\n",
              "      <td>0</td>\n",
              "      <td>53.816667</td>\n",
              "      <td>100.000000</td>\n",
              "      <td>5.381667</td>\n",
              "    </tr>\n",
              "  </tbody>\n",
              "</table>\n",
              "</div>"
            ],
            "text/plain": [
              "   Incoming Attempts  Normal Term Seizures  Answered Calls  \\\n",
              "0                 41                    41              40   \n",
              "1                239                    49              11   \n",
              "2                117                    96              13   \n",
              "3                503                   369              92   \n",
              "4                 80                    26              10   \n",
              "\n",
              "   Normal Not Answer Calls  Outgoing Seizures  FEV Seizures  \\\n",
              "0                        1                 41             0   \n",
              "1                       38                 71            14   \n",
              "2                       83                112             4   \n",
              "3                      277                387             4   \n",
              "4                       16                 26             0   \n",
              "\n",
              "   Network Conversation Minutes         NER       ACD  \n",
              "0                     14.533333  100.000000  0.363333  \n",
              "1                     36.666667   85.964912  3.333333  \n",
              "2                     64.016667   88.888889  4.924359  \n",
              "3                    275.700000   96.344648  2.996739  \n",
              "4                     53.816667  100.000000  5.381667  "
            ]
          },
          "metadata": {
            "tags": []
          },
          "execution_count": 65
        }
      ]
    },
    {
      "metadata": {
        "id": "0Fp9opS0gRx1",
        "colab_type": "code",
        "colab": {}
      },
      "cell_type": "code",
      "source": [
        "newdata['M1_Predicted'] = logreg.predict(testdata)\n",
        "newdata['M2_Predicted'] = dtree.predict(testdata)\n",
        "newdata['M3_Predicted'] = grid_search.predict(testdata)\n",
        "newdata['M4_Predicted'] = rf.predict(testdata)\n",
        "newdata['M5_Predicted'] = rf1.predict(testdata)\n",
        "newdata['M6_Predicted'] = random_search.predict(testdata)"
      ],
      "execution_count": 0,
      "outputs": []
    },
    {
      "metadata": {
        "id": "iMFl7NRxg-IR",
        "colab_type": "code",
        "outputId": "8115549d-4870-4813-8a30-a2ff81d1789e",
        "colab": {
          "base_uri": "https://localhost:8080/",
          "height": 274
        }
      },
      "cell_type": "code",
      "source": [
        "newdata.head()"
      ],
      "execution_count": 0,
      "outputs": [
        {
          "output_type": "execute_result",
          "data": {
            "text/html": [
              "<div>\n",
              "<style scoped>\n",
              "    .dataframe tbody tr th:only-of-type {\n",
              "        vertical-align: middle;\n",
              "    }\n",
              "\n",
              "    .dataframe tbody tr th {\n",
              "        vertical-align: top;\n",
              "    }\n",
              "\n",
              "    .dataframe thead th {\n",
              "        text-align: right;\n",
              "    }\n",
              "</style>\n",
              "<table border=\"1\" class=\"dataframe\">\n",
              "  <thead>\n",
              "    <tr style=\"text-align: right;\">\n",
              "      <th></th>\n",
              "      <th>Incoming Attempts</th>\n",
              "      <th>Normal Term Seizures</th>\n",
              "      <th>Answered Calls</th>\n",
              "      <th>Normal Not Answer Calls</th>\n",
              "      <th>Outgoing Seizures</th>\n",
              "      <th>FEV Seizures</th>\n",
              "      <th>Network Conversation Minutes</th>\n",
              "      <th>NER</th>\n",
              "      <th>ACD</th>\n",
              "      <th>M1_Predicted</th>\n",
              "      <th>M2_Predicted</th>\n",
              "      <th>M3_Predicted</th>\n",
              "      <th>M4_Predicted</th>\n",
              "      <th>M5_Predicted</th>\n",
              "      <th>M6_Predicted</th>\n",
              "    </tr>\n",
              "  </thead>\n",
              "  <tbody>\n",
              "    <tr>\n",
              "      <th>0</th>\n",
              "      <td>41</td>\n",
              "      <td>41</td>\n",
              "      <td>40</td>\n",
              "      <td>1</td>\n",
              "      <td>41</td>\n",
              "      <td>0</td>\n",
              "      <td>14.533333</td>\n",
              "      <td>100.000000</td>\n",
              "      <td>0.363333</td>\n",
              "      <td>Call Center</td>\n",
              "      <td>Corporate</td>\n",
              "      <td>Call Center</td>\n",
              "      <td>Call Center</td>\n",
              "      <td>Call Center</td>\n",
              "      <td>Call Center</td>\n",
              "    </tr>\n",
              "    <tr>\n",
              "      <th>1</th>\n",
              "      <td>239</td>\n",
              "      <td>49</td>\n",
              "      <td>11</td>\n",
              "      <td>38</td>\n",
              "      <td>71</td>\n",
              "      <td>14</td>\n",
              "      <td>36.666667</td>\n",
              "      <td>85.964912</td>\n",
              "      <td>3.333333</td>\n",
              "      <td>Call Center</td>\n",
              "      <td>Call Center</td>\n",
              "      <td>Call Center</td>\n",
              "      <td>Call Center</td>\n",
              "      <td>Call Center</td>\n",
              "      <td>Call Center</td>\n",
              "    </tr>\n",
              "    <tr>\n",
              "      <th>2</th>\n",
              "      <td>117</td>\n",
              "      <td>96</td>\n",
              "      <td>13</td>\n",
              "      <td>83</td>\n",
              "      <td>112</td>\n",
              "      <td>4</td>\n",
              "      <td>64.016667</td>\n",
              "      <td>88.888889</td>\n",
              "      <td>4.924359</td>\n",
              "      <td>Call Center</td>\n",
              "      <td>Call Center</td>\n",
              "      <td>Call Center</td>\n",
              "      <td>Call Center</td>\n",
              "      <td>Call Center</td>\n",
              "      <td>Call Center</td>\n",
              "    </tr>\n",
              "    <tr>\n",
              "      <th>3</th>\n",
              "      <td>503</td>\n",
              "      <td>369</td>\n",
              "      <td>92</td>\n",
              "      <td>277</td>\n",
              "      <td>387</td>\n",
              "      <td>4</td>\n",
              "      <td>275.700000</td>\n",
              "      <td>96.344648</td>\n",
              "      <td>2.996739</td>\n",
              "      <td>Call Center</td>\n",
              "      <td>Call Center</td>\n",
              "      <td>Corporate</td>\n",
              "      <td>Call Center</td>\n",
              "      <td>Call Center</td>\n",
              "      <td>Call Center</td>\n",
              "    </tr>\n",
              "    <tr>\n",
              "      <th>4</th>\n",
              "      <td>80</td>\n",
              "      <td>26</td>\n",
              "      <td>10</td>\n",
              "      <td>16</td>\n",
              "      <td>26</td>\n",
              "      <td>0</td>\n",
              "      <td>53.816667</td>\n",
              "      <td>100.000000</td>\n",
              "      <td>5.381667</td>\n",
              "      <td>Call Center</td>\n",
              "      <td>Call Center</td>\n",
              "      <td>Call Center</td>\n",
              "      <td>Call Center</td>\n",
              "      <td>Call Center</td>\n",
              "      <td>Call Center</td>\n",
              "    </tr>\n",
              "  </tbody>\n",
              "</table>\n",
              "</div>"
            ],
            "text/plain": [
              "   Incoming Attempts  Normal Term Seizures  Answered Calls  \\\n",
              "0                 41                    41              40   \n",
              "1                239                    49              11   \n",
              "2                117                    96              13   \n",
              "3                503                   369              92   \n",
              "4                 80                    26              10   \n",
              "\n",
              "   Normal Not Answer Calls  Outgoing Seizures  FEV Seizures  \\\n",
              "0                        1                 41             0   \n",
              "1                       38                 71            14   \n",
              "2                       83                112             4   \n",
              "3                      277                387             4   \n",
              "4                       16                 26             0   \n",
              "\n",
              "   Network Conversation Minutes         NER       ACD M1_Predicted  \\\n",
              "0                     14.533333  100.000000  0.363333  Call Center   \n",
              "1                     36.666667   85.964912  3.333333  Call Center   \n",
              "2                     64.016667   88.888889  4.924359  Call Center   \n",
              "3                    275.700000   96.344648  2.996739  Call Center   \n",
              "4                     53.816667  100.000000  5.381667  Call Center   \n",
              "\n",
              "  M2_Predicted M3_Predicted M4_Predicted M5_Predicted M6_Predicted  \n",
              "0    Corporate  Call Center  Call Center  Call Center  Call Center  \n",
              "1  Call Center  Call Center  Call Center  Call Center  Call Center  \n",
              "2  Call Center  Call Center  Call Center  Call Center  Call Center  \n",
              "3  Call Center    Corporate  Call Center  Call Center  Call Center  \n",
              "4  Call Center  Call Center  Call Center  Call Center  Call Center  "
            ]
          },
          "metadata": {
            "tags": []
          },
          "execution_count": 74
        }
      ]
    },
    {
      "metadata": {
        "id": "EBvsE5WQhDNd",
        "colab_type": "code",
        "colab": {}
      },
      "cell_type": "code",
      "source": [
        "newdata.to_csv(\"ModelStacking6MOdels.csv\") "
      ],
      "execution_count": 0,
      "outputs": []
    },
    {
      "metadata": {
        "id": "s3HLXUc4hO3F",
        "colab_type": "code",
        "colab": {}
      },
      "cell_type": "code",
      "source": [
        ""
      ],
      "execution_count": 0,
      "outputs": []
    }
  ]
}